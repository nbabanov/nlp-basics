{
 "cells": [
  {
   "attachments": {},
   "cell_type": "markdown",
   "metadata": {},
   "source": [
    "# Определяне на настроения в ревюта от Амазон\n",
    "\n",
    "## Използвани данни\n",
    "\n",
    "Набора от данни с Амазон ревюта съдържа 730000 ревюта. Автор на данните в текущият им вид е: `Xiang Zhang (xiang.zhang@nyu.edu)`. Данните са били използвани в научната статия: \n",
    "> Xiang Zhang, Junbo Zhao, Yann LeCun. Character-level Convolutional Networks for Text Classification. Advances in Neural Information Processing Systems 28 (NIPS 2015)\n",
    "\n",
    "Лиценз: няма\n",
    "\n",
    "Източник: https://drive.google.com/file/d/0Bz8a_Dbh9QhbZVhsUnRWRDhETzA/view?usp=share_link&resourcekey=0-Rp0ynafmZGZ5MflGmvwLGg\n",
    "\n",
    "## Използвани библиотеки\n",
    "\n",
    "- NLTK\n",
    "\t* Богата библиотека за обработка на естествен език.\n",
    "\t* Съдържа в себе си лемизатори, стемери и т.н.\n",
    "- WordNet\n",
    "\t* Богат речник от думи на английски език.\n",
    "\t* Съдържа се информация за POS таговете.\n",
    "- SentiWordNet\n",
    "\t* Надграждащ речник над WordNet, който оценява емоцията на дадена дума.\n",
    "\t* Съдържа атрибути за позитивна и негативна оценка на дадена дума."
   ]
  },
  {
   "attachments": {},
   "cell_type": "markdown",
   "metadata": {},
   "source": [
    "## Включване на библиотеки"
   ]
  },
  {
   "cell_type": "code",
   "execution_count": 343,
   "metadata": {},
   "outputs": [],
   "source": [
    "import re\n",
    "import nltk\n",
    "\n",
    "from nltk.corpus import sentiwordnet as swn\n",
    "from nltk.corpus import wordnet as wn\n",
    "from nltk.tag import pos_tag\n",
    "from nltk.tokenize import word_tokenize\n",
    "from nltk.stem import WordNetLemmatizer"
   ]
  },
  {
   "attachments": {},
   "cell_type": "markdown",
   "metadata": {},
   "source": [
    "## Дефиниране на функции за определяне на настроението на дадено изречение"
   ]
  },
  {
   "attachments": {},
   "cell_type": "markdown",
   "metadata": {},
   "source": [
    "### Определяне на това каква част на речта е дадена дума\n",
    "\n",
    "`NLTK` разпознава твърде много части на речта. За нашите цели се интересуваме само от:\n",
    "- прилагателни\n",
    "- съществителни\n",
    "- глаголи\n",
    "- наречия\n",
    "\n",
    "Това ограничение и преобразуване се налага заради това, че `WordNet` речника разпознава само тези части на речта. Ако дадена дума не можем директно да я приравним към някоя от категориите на `WordNet` - определяме я като съществително."
   ]
  },
  {
   "cell_type": "code",
   "execution_count": 344,
   "metadata": {},
   "outputs": [],
   "source": [
    "def get_wordnet_pos(word):\n",
    "    tag = pos_tag([word])[0][1][0].upper()\n",
    "\n",
    "    tag_dict = {\"J\": wn.ADJ,\n",
    "                \"N\": wn.NOUN,\n",
    "                \"V\": wn.VERB,\n",
    "                \"R\": wn.ADV}\n",
    "    return tag_dict.get(tag, wn.NOUN)\n"
   ]
  },
  {
   "attachments": {},
   "cell_type": "markdown",
   "metadata": {},
   "source": [
    "### Определяне на настроението на дадено изречение\n",
    "\n",
    "- Изплолзваме `word_tokenize` от `NLTK`, за да разделим даденото изречение на символи. За символ тук се възприема цяла дума или препинателен знак.\n",
    "- Използваме `WordNetLemmatizer` за да намалим броя думи до основното им значение.\n",
    "- Обхождат се всички символи в даденото изречение.\n",
    "- Определя се каква част на речта са.\n",
    "- Намира се лемата.\n",
    "- Ако лемата се открие в речника на WordNet ѝ се взимат екстремумите на най-близките значения до първото.\n",
    "- Използвайки `SentiWordNet` речника прибавяме разликата м/у позитивната и отрицателната оценка на думата към общия сбор.\n",
    "- Нормализираме данните като разделяме общия сбор на оценките на брой емоционални думи."
   ]
  },
  {
   "cell_type": "code",
   "execution_count": 383,
   "metadata": {},
   "outputs": [],
   "source": [
    "synset_pattern = re.compile('(.*\\.\\w)\\.\\d*')\n",
    "\n",
    "def get_sentiment_score(sentence):\n",
    "    # 1. Tokenize\n",
    "    tokens = word_tokenize(sentence)\n",
    "\n",
    "    lemmatizer = WordNetLemmatizer()\n",
    "\n",
    "    sentiment_score = 0.0\n",
    "    sentiment_word_count = 0\n",
    "    for word in tokens:\n",
    "        word_lower = word.lower()\n",
    "        tag = get_wordnet_pos(word_lower)\n",
    "        item_res = lemmatizer.lemmatize(word_lower, tag)\n",
    "        \n",
    "        synsets = wn.synsets(item_res, pos=tag)\n",
    "\n",
    "        if len(synsets) == 0:\n",
    "            continue\n",
    "\n",
    "        first_synset = synsets[0].name()\n",
    "\n",
    "        synset_match = synset_pattern.match(first_synset)\n",
    "        \n",
    "        if synset_match is None:\n",
    "            print(f'SS: {first_synset}')\n",
    "\n",
    "        common_pattern = synset_pattern.match(first_synset).groups()[0]\n",
    "\n",
    "        max_pos_score = -1\n",
    "        max_neg_score = -1\n",
    "\n",
    "        for synset in synsets:\n",
    "            if synset.name().startswith(common_pattern):\n",
    "                if max_neg_score < swn.senti_synset(synset.name()).neg_score():\n",
    "                    max_neg_score = swn.senti_synset(synset.name()).neg_score()\n",
    "                if max_pos_score < swn.senti_synset(synset.name()).pos_score():\n",
    "                    max_pos_score = swn.senti_synset(synset.name()).pos_score()\n",
    "\n",
    "        delta_score = max_pos_score - max_neg_score\n",
    "        sentiment_score += delta_score\n",
    "\n",
    "        if delta_score != 0:\n",
    "            sentiment_word_count += 1\n",
    "        \n",
    "    return sentiment_score / sentiment_word_count if sentiment_score != 0 else 0"
   ]
  },
  {
   "attachments": {},
   "cell_type": "markdown",
   "metadata": {},
   "source": [
    "### Няколко примера:"
   ]
  },
  {
   "cell_type": "code",
   "execution_count": 384,
   "metadata": {},
   "outputs": [
    {
     "data": {
      "text/plain": [
       "-0.08333333333333333"
      ]
     },
     "execution_count": 384,
     "metadata": {},
     "output_type": "execute_result"
    }
   ],
   "source": [
    "get_sentiment_score('This is as bad as it gets!')"
   ]
  },
  {
   "cell_type": "code",
   "execution_count": 385,
   "metadata": {},
   "outputs": [
    {
     "data": {
      "text/plain": [
       "0.625"
      ]
     },
     "execution_count": 385,
     "metadata": {},
     "output_type": "execute_result"
    }
   ],
   "source": [
    "get_sentiment_score('Great!')"
   ]
  },
  {
   "cell_type": "code",
   "execution_count": 386,
   "metadata": {},
   "outputs": [
    {
     "data": {
      "text/plain": [
       "0.125"
      ]
     },
     "execution_count": 386,
     "metadata": {},
     "output_type": "execute_result"
    }
   ],
   "source": [
    "get_sentiment_score('This is ok!')"
   ]
  },
  {
   "attachments": {},
   "cell_type": "markdown",
   "metadata": {},
   "source": [
    "# Зареждане на набора от данни (корпуса)"
   ]
  },
  {
   "cell_type": "code",
   "execution_count": 387,
   "metadata": {},
   "outputs": [],
   "source": [
    "import pandas as pd\n",
    "\n",
    "train = pd.read_csv('./amazon_review_full_csv/train.csv')\n",
    "test = pd.read_csv('./amazon_review_full_csv/test.csv')\n",
    "\n",
    "data_columns = ['rating', 'title', 'review']\n",
    "\n",
    "train.columns = data_columns\n",
    "test.columns = data_columns"
   ]
  },
  {
   "cell_type": "code",
   "execution_count": 388,
   "metadata": {},
   "outputs": [
    {
     "data": {
      "text/html": [
       "<div>\n",
       "<style scoped>\n",
       "    .dataframe tbody tr th:only-of-type {\n",
       "        vertical-align: middle;\n",
       "    }\n",
       "\n",
       "    .dataframe tbody tr th {\n",
       "        vertical-align: top;\n",
       "    }\n",
       "\n",
       "    .dataframe thead th {\n",
       "        text-align: right;\n",
       "    }\n",
       "</style>\n",
       "<table border=\"1\" class=\"dataframe\">\n",
       "  <thead>\n",
       "    <tr style=\"text-align: right;\">\n",
       "      <th></th>\n",
       "      <th>rating</th>\n",
       "      <th>title</th>\n",
       "      <th>review</th>\n",
       "    </tr>\n",
       "  </thead>\n",
       "  <tbody>\n",
       "    <tr>\n",
       "      <th>0</th>\n",
       "      <td>4</td>\n",
       "      <td>Surprisingly delightful</td>\n",
       "      <td>This is a fast read filled with unexpected hum...</td>\n",
       "    </tr>\n",
       "    <tr>\n",
       "      <th>1</th>\n",
       "      <td>2</td>\n",
       "      <td>Works, but not as advertised</td>\n",
       "      <td>I bought one of these chargers..the instructio...</td>\n",
       "    </tr>\n",
       "    <tr>\n",
       "      <th>2</th>\n",
       "      <td>2</td>\n",
       "      <td>Oh dear</td>\n",
       "      <td>I was excited to find a book ostensibly about ...</td>\n",
       "    </tr>\n",
       "    <tr>\n",
       "      <th>3</th>\n",
       "      <td>2</td>\n",
       "      <td>Incorrect disc!</td>\n",
       "      <td>I am a big JVC fan, but I do not like this mod...</td>\n",
       "    </tr>\n",
       "    <tr>\n",
       "      <th>4</th>\n",
       "      <td>2</td>\n",
       "      <td>Incorrect Disc</td>\n",
       "      <td>I love the style of this, but after a couple y...</td>\n",
       "    </tr>\n",
       "  </tbody>\n",
       "</table>\n",
       "</div>"
      ],
      "text/plain": [
       "   rating                         title  \\\n",
       "0       4       Surprisingly delightful   \n",
       "1       2  Works, but not as advertised   \n",
       "2       2                       Oh dear   \n",
       "3       2               Incorrect disc!   \n",
       "4       2                Incorrect Disc   \n",
       "\n",
       "                                              review  \n",
       "0  This is a fast read filled with unexpected hum...  \n",
       "1  I bought one of these chargers..the instructio...  \n",
       "2  I was excited to find a book ostensibly about ...  \n",
       "3  I am a big JVC fan, but I do not like this mod...  \n",
       "4  I love the style of this, but after a couple y...  "
      ]
     },
     "execution_count": 388,
     "metadata": {},
     "output_type": "execute_result"
    }
   ],
   "source": [
    "test.head()"
   ]
  },
  {
   "cell_type": "code",
   "execution_count": 389,
   "metadata": {},
   "outputs": [
    {
     "data": {
      "text/html": [
       "<div>\n",
       "<style scoped>\n",
       "    .dataframe tbody tr th:only-of-type {\n",
       "        vertical-align: middle;\n",
       "    }\n",
       "\n",
       "    .dataframe tbody tr th {\n",
       "        vertical-align: top;\n",
       "    }\n",
       "\n",
       "    .dataframe thead th {\n",
       "        text-align: right;\n",
       "    }\n",
       "</style>\n",
       "<table border=\"1\" class=\"dataframe\">\n",
       "  <thead>\n",
       "    <tr style=\"text-align: right;\">\n",
       "      <th></th>\n",
       "      <th>rating</th>\n",
       "      <th>title</th>\n",
       "      <th>review</th>\n",
       "    </tr>\n",
       "  </thead>\n",
       "  <tbody>\n",
       "    <tr>\n",
       "      <th>0</th>\n",
       "      <td>5</td>\n",
       "      <td>Inspiring</td>\n",
       "      <td>I hope a lot of people hear this cd. We need m...</td>\n",
       "    </tr>\n",
       "    <tr>\n",
       "      <th>1</th>\n",
       "      <td>5</td>\n",
       "      <td>The best soundtrack ever to anything.</td>\n",
       "      <td>I'm reading a lot of reviews saying that this ...</td>\n",
       "    </tr>\n",
       "    <tr>\n",
       "      <th>2</th>\n",
       "      <td>4</td>\n",
       "      <td>Chrono Cross OST</td>\n",
       "      <td>The music of Yasunori Misuda is without questi...</td>\n",
       "    </tr>\n",
       "    <tr>\n",
       "      <th>3</th>\n",
       "      <td>5</td>\n",
       "      <td>Too good to be true</td>\n",
       "      <td>Probably the greatest soundtrack in history! U...</td>\n",
       "    </tr>\n",
       "    <tr>\n",
       "      <th>4</th>\n",
       "      <td>5</td>\n",
       "      <td>There's a reason for the price</td>\n",
       "      <td>There's a reason this CD is so expensive, even...</td>\n",
       "    </tr>\n",
       "  </tbody>\n",
       "</table>\n",
       "</div>"
      ],
      "text/plain": [
       "   rating                                  title  \\\n",
       "0       5                              Inspiring   \n",
       "1       5  The best soundtrack ever to anything.   \n",
       "2       4                       Chrono Cross OST   \n",
       "3       5                    Too good to be true   \n",
       "4       5         There's a reason for the price   \n",
       "\n",
       "                                              review  \n",
       "0  I hope a lot of people hear this cd. We need m...  \n",
       "1  I'm reading a lot of reviews saying that this ...  \n",
       "2  The music of Yasunori Misuda is without questi...  \n",
       "3  Probably the greatest soundtrack in history! U...  \n",
       "4  There's a reason this CD is so expensive, even...  "
      ]
     },
     "execution_count": 389,
     "metadata": {},
     "output_type": "execute_result"
    }
   ],
   "source": [
    "train.head()"
   ]
  },
  {
   "cell_type": "code",
   "execution_count": 390,
   "metadata": {},
   "outputs": [
    {
     "name": "stdout",
     "output_type": "stream",
     "text": [
      "Съотношение тренировъчни / тестови = 0.1780820153874057 / 0.8219179846125944\n"
     ]
    }
   ],
   "source": [
    "test_size = test.shape[0]\n",
    "train_size = train.shape[0]\n",
    "\n",
    "print(f'Съотношение тренировъчни / тестови = {test_size / (test_size + train_size)} / {train_size / (train_size + test_size)}')"
   ]
  },
  {
   "attachments": {},
   "cell_type": "markdown",
   "metadata": {},
   "source": [
    "## Определяне на настроението на дадено ревю\n",
    "\n",
    "- Слагаме по-голяма тежест върху заглавието на ревюто.\n",
    "- Накрая нормализираме данните и ги вкарваме в интервала [1, 5]"
   ]
  },
  {
   "cell_type": "code",
   "execution_count": 395,
   "metadata": {},
   "outputs": [],
   "source": [
    "def normalize_range(val, old_min, old_max):\n",
    "\treturn (val - old_min) / (old_max - old_min)\n",
    "\n",
    "def scale_value_to_range(value, input_range, output_range):\n",
    "\t(input_min, input_max) = input_range\n",
    "\t(output_min, output_max) = output_range\n",
    "\n",
    "\tvalue_factor = normalize_range(value, input_min, input_max);\n",
    "\toutput_size = output_max - output_min;\n",
    "\n",
    "\treturn output_min + output_size * value_factor\n",
    "\n",
    "title_coeff = 5\n",
    "input_range_boundary = (1 + title_coeff) / 2\n",
    "\n",
    "def get_sentiment_for_review(title, review):\n",
    "    title_score = get_sentiment_score(title)\n",
    "    review_score = get_sentiment_score(review)\n",
    "    \n",
    "    return scale_value_to_range((title_score * title_coeff + review_score) / 2, (-input_range_boundary, input_range_boundary), (1, 5))"
   ]
  },
  {
   "attachments": {},
   "cell_type": "markdown",
   "metadata": {},
   "source": [
    "### Тест"
   ]
  },
  {
   "cell_type": "code",
   "execution_count": 396,
   "metadata": {},
   "outputs": [
    {
     "name": "stdout",
     "output_type": "stream",
     "text": [
      "Рейтинг: 1.9083333333333332\n"
     ]
    }
   ],
   "source": [
    "print(f'Рейтинг: {get_sentiment_for_review(\"Worst phone ever!\", \"This phone is worthless. It has low battery capacity.\")}')"
   ]
  },
  {
   "cell_type": "code",
   "execution_count": 397,
   "metadata": {},
   "outputs": [
    {
     "name": "stdout",
     "output_type": "stream",
     "text": [
      "Рейтинг: 3.4791666666666665\n"
     ]
    }
   ],
   "source": [
    "print(f'Рейтинг: {get_sentiment_for_review(\"Recommended!\", \"This book is fascinating!\")}')"
   ]
  },
  {
   "attachments": {},
   "cell_type": "markdown",
   "metadata": {},
   "source": [
    "## Изпълнение на алгоритъма върху целия корпус"
   ]
  },
  {
   "cell_type": "code",
   "execution_count": 412,
   "metadata": {},
   "outputs": [
    {
     "name": "stdout",
     "output_type": "stream",
     "text": [
      "Средна точност на предсказване: 0.4310926015800473\n"
     ]
    }
   ],
   "source": [
    "def calc_accuracy(prediction, real_result):\n",
    "    return 1 - abs(real_result - prediction) / real_result\n",
    "\n",
    "def average(lst):\n",
    "    return sum(lst) / len(lst)\n",
    "\n",
    "accuracy_scores = []\n",
    "\n",
    "all_data = pd.concat([train, test], ignore_index=True, sort=False)\n",
    "\n",
    "for ind in range(2000):\n",
    "    accuracy_scores.append(calc_accuracy(get_sentiment_for_review(all_data[\"title\"][ind], all_data[\"review\"][ind]), all_data[\"rating\"][ind]))\n",
    "\n",
    "print(f'Средна точност на предсказване: {average(accuracy_scores)}')\n"
   ]
  }
 ],
 "metadata": {
  "kernelspec": {
   "display_name": "base",
   "language": "python",
   "name": "python3"
  },
  "language_info": {
   "codemirror_mode": {
    "name": "ipython",
    "version": 3
   },
   "file_extension": ".py",
   "mimetype": "text/x-python",
   "name": "python",
   "nbconvert_exporter": "python",
   "pygments_lexer": "ipython3",
   "version": "3.9.12"
  },
  "orig_nbformat": 4,
  "vscode": {
   "interpreter": {
    "hash": "98cd9ce5212bf9ce85c0f1182e743609272a97722fbdb5c25eb8e9b8df063bd8"
   }
  }
 },
 "nbformat": 4,
 "nbformat_minor": 2
}
